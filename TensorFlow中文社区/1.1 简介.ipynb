{
 "cells": [
  {
   "cell_type": "code",
   "execution_count": 1,
   "metadata": {},
   "outputs": [],
   "source": [
    "import tensorflow as tf"
   ]
  },
  {
   "cell_type": "code",
   "execution_count": 3,
   "metadata": {},
   "outputs": [],
   "source": [
    "import numpy as np"
   ]
  },
  {
   "cell_type": "code",
   "execution_count": 4,
   "metadata": {},
   "outputs": [],
   "source": [
    "x_data = np.float32(np.random.rand(2, 100))"
   ]
  },
  {
   "cell_type": "code",
   "execution_count": 5,
   "metadata": {},
   "outputs": [],
   "source": [
    "y_data = np.dot([0.100, 0.200], x_data) + 0.300"
   ]
  },
  {
   "cell_type": "code",
   "execution_count": 6,
   "metadata": {},
   "outputs": [],
   "source": [
    "# 构造一个线性模型\n",
    "#\n",
    "b = tf.Variable(tf.zeros([1]))\n",
    "W = tf.Variable(tf.random_uniform([1, 2], -1.0, 1.0))\n",
    "y = tf.matmul(W, x_data) + b"
   ]
  },
  {
   "cell_type": "code",
   "execution_count": 7,
   "metadata": {},
   "outputs": [],
   "source": [
    "# 最小化方差\n",
    "loss = tf.reduce_mean(tf.square(y - y_data))\n",
    "optimizer = tf.train.GradientDescentOptimizer(0.5)\n",
    "train = optimizer.minimize(loss)"
   ]
  },
  {
   "cell_type": "code",
   "execution_count": 9,
   "metadata": {},
   "outputs": [],
   "source": [
    "# 初始化变量\n",
    "init = tf.global_variables_initializer()"
   ]
  },
  {
   "cell_type": "code",
   "execution_count": 10,
   "metadata": {},
   "outputs": [],
   "source": [
    "# 启动图（graph）\n",
    "sess = tf.Session()\n",
    "sess.run(init)"
   ]
  },
  {
   "cell_type": "code",
   "execution_count": 14,
   "metadata": {},
   "outputs": [
    {
     "name": "stdout",
     "output_type": "stream",
     "text": [
      "0 [[0.09999103 0.19998601]] [0.3000118]\n",
      "20 [[0.09999681 0.19999503]] [0.3000042]\n",
      "40 [[0.09999885 0.19999823]] [0.3000015]\n",
      "60 [[0.09999958 0.19999935]] [0.30000055]\n",
      "80 [[0.09999985 0.19999975]] [0.30000022]\n",
      "100 [[0.0999999  0.19999984]] [0.30000013]\n",
      "120 [[0.0999999  0.19999984]] [0.30000013]\n",
      "140 [[0.0999999  0.19999984]] [0.30000013]\n",
      "160 [[0.0999999  0.19999984]] [0.30000013]\n",
      "180 [[0.0999999  0.19999984]] [0.30000013]\n",
      "200 [[0.0999999  0.19999984]] [0.30000013]\n",
      "220 [[0.0999999  0.19999984]] [0.30000013]\n",
      "240 [[0.0999999  0.19999984]] [0.30000013]\n",
      "260 [[0.0999999  0.19999984]] [0.30000013]\n",
      "280 [[0.0999999  0.19999984]] [0.30000013]\n",
      "300 [[0.0999999  0.19999984]] [0.30000013]\n"
     ]
    }
   ],
   "source": [
    "# 拟合平面\n",
    "for step in np.arange(0, 301):\n",
    "    sess.run(train)\n",
    "    if step % 20 == 0:\n",
    "        print(step, sess.run(W), sess.run(b))"
   ]
  },
  {
   "cell_type": "code",
   "execution_count": null,
   "metadata": {},
   "outputs": [],
   "source": []
  }
 ],
 "metadata": {
  "kernelspec": {
   "display_name": "Python 3",
   "language": "python",
   "name": "python3"
  },
  "language_info": {
   "codemirror_mode": {
    "name": "ipython",
    "version": 3
   },
   "file_extension": ".py",
   "mimetype": "text/x-python",
   "name": "python",
   "nbconvert_exporter": "python",
   "pygments_lexer": "ipython3",
   "version": "3.6.2"
  }
 },
 "nbformat": 4,
 "nbformat_minor": 2
}
